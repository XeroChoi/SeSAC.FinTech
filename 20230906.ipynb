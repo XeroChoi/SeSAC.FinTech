{
  "nbformat": 4,
  "nbformat_minor": 0,
  "metadata": {
    "colab": {
      "provenance": [],
      "authorship_tag": "ABX9TyNxc1N/eVF3VH3H4VnKXqaP",
      "include_colab_link": true
    },
    "kernelspec": {
      "name": "python3",
      "display_name": "Python 3"
    },
    "language_info": {
      "name": "python"
    }
  },
  "cells": [
    {
      "cell_type": "markdown",
      "metadata": {
        "id": "view-in-github",
        "colab_type": "text"
      },
      "source": [
        "<a href=\"https://colab.research.google.com/github/XeroChoi/SeSAC.FinTech/blob/main/20230906.ipynb\" target=\"_parent\"><img src=\"https://colab.research.google.com/assets/colab-badge.svg\" alt=\"Open In Colab\"/></a>"
      ]
    },
    {
      "cell_type": "code",
      "source": [
        "def sum(a, b):\n",
        "  result = a + b\n",
        "  return result"
      ],
      "metadata": {
        "id": "ajTwjnt3Kh5V"
      },
      "execution_count": null,
      "outputs": []
    },
    {
      "cell_type": "code",
      "source": [
        "sum(3,4)"
      ],
      "metadata": {
        "colab": {
          "base_uri": "https://localhost:8080/"
        },
        "id": "kqW9nCqCRznp",
        "outputId": "57d97689-1c9b-4340-bb59-bf682edab61a"
      },
      "execution_count": null,
      "outputs": [
        {
          "output_type": "execute_result",
          "data": {
            "text/plain": [
              "7"
            ]
          },
          "metadata": {},
          "execution_count": 10
        }
      ]
    },
    {
      "cell_type": "code",
      "source": [
        "def say():\n",
        "  return \"HI\"\n",
        "say()"
      ],
      "metadata": {
        "colab": {
          "base_uri": "https://localhost:8080/",
          "height": 35
        },
        "id": "uqkn556oSX35",
        "outputId": "7dacf551-6d8b-424d-ff77-4a7f18e3a902"
      },
      "execution_count": null,
      "outputs": [
        {
          "output_type": "execute_result",
          "data": {
            "text/plain": [
              "'HI'"
            ],
            "application/vnd.google.colaboratory.intrinsic+json": {
              "type": "string"
            }
          },
          "metadata": {},
          "execution_count": 11
        }
      ]
    },
    {
      "cell_type": "code",
      "source": [
        "def sum2(a,b):\n",
        "  print(a + b)\n",
        "A = sum(3,4)\n",
        "B = sum2(3,4)"
      ],
      "metadata": {
        "colab": {
          "base_uri": "https://localhost:8080/"
        },
        "id": "R2yOovk8Sc5S",
        "outputId": "bd66cb7c-cb55-4836-d226-b310b37e88c4"
      },
      "execution_count": null,
      "outputs": [
        {
          "output_type": "stream",
          "name": "stdout",
          "text": [
            "7\n"
          ]
        }
      ]
    },
    {
      "cell_type": "code",
      "source": [
        "print(A)\n",
        "print(B)  ###결과 값이 없다 리턴값이 없기 때문에"
      ],
      "metadata": {
        "colab": {
          "base_uri": "https://localhost:8080/"
        },
        "id": "7fDmKw6hTJin",
        "outputId": "e1e42923-4954-4f1b-dbad-3851ae142534"
      },
      "execution_count": null,
      "outputs": [
        {
          "output_type": "stream",
          "name": "stdout",
          "text": [
            "7\n",
            "None\n"
          ]
        }
      ]
    },
    {
      "cell_type": "code",
      "source": [
        "sum(3, 4)\n",
        "sum(a = 3, b = 4)"
      ],
      "metadata": {
        "colab": {
          "base_uri": "https://localhost:8080/"
        },
        "id": "_ZwEN6PoTqr4",
        "outputId": "32631b6a-8fb8-493f-e31a-4887f4d8d7fd"
      },
      "execution_count": null,
      "outputs": [
        {
          "output_type": "execute_result",
          "data": {
            "text/plain": [
              "7"
            ]
          },
          "metadata": {},
          "execution_count": 24
        }
      ]
    },
    {
      "cell_type": "code",
      "source": [
        "def say_myself(name, old, man = True):\n",
        "  print(f'나의 이름은 {name}입니다.')\n",
        "  print(f'나의 이름은 {name}입니다.')\n",
        "  if man:\n",
        "    print('남자입니다')\n",
        "  else:\n",
        "    print('여자입니다')\n",
        "say_myself('박명수', 20)\n",
        "say_myself('홍길동', 20, False)\n",
        "say_myself('홍길동', 20, True)\n",
        "say_myself(old = 10, name = '뽀로로')"
      ],
      "metadata": {
        "colab": {
          "base_uri": "https://localhost:8080/"
        },
        "id": "5QphTiPaVYVI",
        "outputId": "4ca17399-74c5-49dd-eaab-50004e03da95"
      },
      "execution_count": null,
      "outputs": [
        {
          "output_type": "stream",
          "name": "stdout",
          "text": [
            "나의 이름은 박명수입니다.\n",
            "나의 이름은 박명수입니다.\n",
            "남자입니다\n",
            "나의 이름은 홍길동입니다.\n",
            "나의 이름은 홍길동입니다.\n",
            "여자입니다\n",
            "나의 이름은 홍길동입니다.\n",
            "나의 이름은 홍길동입니다.\n",
            "남자입니다\n",
            "나의 이름은 뽀로로입니다.\n",
            "나의 이름은 뽀로로입니다.\n",
            "남자입니다\n"
          ]
        }
      ]
    },
    {
      "cell_type": "code",
      "source": [],
      "metadata": {
        "id": "ijYCWg9XY9fX"
      },
      "execution_count": null,
      "outputs": []
    },
    {
      "cell_type": "code",
      "source": [
        "def test2():\n",
        "  local_var = 20\n",
        "  return local_var\n",
        "a = test2()\n",
        "print(a)"
      ],
      "metadata": {
        "colab": {
          "base_uri": "https://localhost:8080/"
        },
        "id": "BI8ZXIJHYlUv",
        "outputId": "4da21712-4443-4b54-e4f5-ca1260e88b42"
      },
      "execution_count": null,
      "outputs": [
        {
          "output_type": "stream",
          "name": "stdout",
          "text": [
            "20\n"
          ]
        }
      ]
    },
    {
      "cell_type": "code",
      "source": [
        "def test3():\n",
        "  global local_var\n",
        "  local_var = 20\n",
        "test3()\n",
        "print(local_var)"
      ],
      "metadata": {
        "colab": {
          "base_uri": "https://localhost:8080/"
        },
        "id": "kI8cN1V9YvRP",
        "outputId": "76c6c42c-ae2c-41fb-d937-9cf9f30cd016"
      },
      "execution_count": null,
      "outputs": [
        {
          "output_type": "stream",
          "name": "stdout",
          "text": [
            "20\n"
          ]
        }
      ]
    },
    {
      "cell_type": "code",
      "source": [
        "def means(*args):\n",
        "  sum1 = 0\n",
        "  count = 0\n",
        "  for i in args:\n",
        "    sum1 = sum1 + i\n",
        "    count = count + 1\n",
        "    print(i)\n",
        "  result = sum1/count\n",
        "  return result\n",
        "print(means(1,2,3))\n"
      ],
      "metadata": {
        "colab": {
          "base_uri": "https://localhost:8080/"
        },
        "id": "r_07rsj0Y6oG",
        "outputId": "9120474d-4402-438f-80ec-1e1a4b32cba3"
      },
      "execution_count": null,
      "outputs": [
        {
          "output_type": "stream",
          "name": "stdout",
          "text": [
            "1\n",
            "2\n",
            "3\n",
            "2.0\n"
          ]
        }
      ]
    },
    {
      "cell_type": "code",
      "source": [
        "def my_name(*args):\n",
        "  rst = sum(args) / len(args)\n",
        "  return rst"
      ],
      "metadata": {
        "id": "XsasH6V2g04F"
      },
      "execution_count": null,
      "outputs": []
    },
    {
      "cell_type": "code",
      "source": [
        "def cal():\n",
        "  num1 = int(input(\"첫번째 숫자를 입력해주세요.\"))\n",
        "  num2 = int(input(\"두번째 숫자를 입력해주세요.\"))\n",
        "  return num1*num2, num1-num2, num1+num2, num1/num2\n",
        "print(cal())"
      ],
      "metadata": {
        "colab": {
          "base_uri": "https://localhost:8080/"
        },
        "id": "XUyJl_qnhAJO",
        "outputId": "a73746fa-dcc0-4d3f-ef95-b86577bba5df"
      },
      "execution_count": null,
      "outputs": [
        {
          "output_type": "stream",
          "name": "stdout",
          "text": [
            "첫번째 숫자를 입력해주세요.10\n",
            "두번째 숫자를 입력해주세요.5\n",
            "(50, 5, 15, 2.0)\n"
          ]
        }
      ]
    },
    {
      "cell_type": "code",
      "source": [
        "def cal(num1, num2):\n",
        "  return num1*num2, num1-num2, num1+num2, num1/num2"
      ],
      "metadata": {
        "id": "WjgI9m6thx-N"
      },
      "execution_count": null,
      "outputs": []
    },
    {
      "cell_type": "code",
      "source": [
        " def cul2(num1, num2):\n",
        "    a = input(\"기호를 입력하시오 : \")\n",
        "    if a == '+' :\n",
        "        return num1 + num2\n",
        "    elif a == '-' :\n",
        "        return num1 - num2\n",
        "    elif a == '*' :\n",
        "        return num1 * num2\n",
        "    elif a == '/' :\n",
        "        return num1 / num2\n",
        "    elif a == '//' :\n",
        "        return num1 // num2\n",
        "    elif a == '%' :\n",
        "        return num1 % num2"
      ],
      "metadata": {
        "id": "vl7jqZOoiBS8"
      },
      "execution_count": null,
      "outputs": []
    },
    {
      "cell_type": "code",
      "source": [
        "class 붕어빵:\n",
        "  def __init__(self,속재료):\n",
        "    self.속재료 = None"
      ],
      "metadata": {
        "id": "Qh022-f1isJE"
      },
      "execution_count": null,
      "outputs": []
    },
    {
      "cell_type": "code",
      "source": [],
      "metadata": {
        "id": "Uv2ytc2Nm6fD"
      },
      "execution_count": null,
      "outputs": []
    },
    {
      "cell_type": "code",
      "source": [
        "피자붕어빵 = 붕어빵()\n",
        "피자붕어빵, 속재료 = '피자'\n",
        "\n",
        "팥붕어빵 = 붕어빵()\n",
        "팥붕어빵.속재료 = '팥'"
      ],
      "metadata": {
        "id": "4-4ypeYOiSR9"
      },
      "execution_count": null,
      "outputs": []
    },
    {
      "cell_type": "code",
      "source": [
        "피자붕어빵 = 붕어빵('피자')\n",
        "팥붕어빵 = 붕어빵('팥')"
      ],
      "metadata": {
        "id": "zFp0ow4Omm3T"
      },
      "execution_count": null,
      "outputs": []
    },
    {
      "cell_type": "code",
      "source": [
        "class FourCal:\n",
        "  def set_data(self, num1, num2):\n",
        "    self.num1 = num1\n",
        "    self.num2 = num2\n",
        "\n",
        "  def add(self):\n",
        "    return self.num1 + self.num2\n",
        "\n",
        "a = FourCal()\n",
        "a.set_data(10,20)\n",
        "print(a.num1, a.num2)\n",
        "print(a.add())\n"
      ],
      "metadata": {
        "colab": {
          "base_uri": "https://localhost:8080/"
        },
        "id": "0HUKeUuf3tre",
        "outputId": "b69e5fa8-c756-4e73-dee9-00d49ff3d8fe"
      },
      "execution_count": null,
      "outputs": [
        {
          "output_type": "stream",
          "name": "stdout",
          "text": [
            "10 20\n",
            "30\n"
          ]
        }
      ]
    },
    {
      "cell_type": "code",
      "source": [
        "class FourCal:\n",
        "  def __init__(self, num1, num2):\n",
        "    self.num1 = num1\n",
        "    self.num2 = num2\n",
        "\n",
        "  def add(self):\n",
        "    return self.num1 + self.num2\n",
        "  def minus(self):\n",
        "    return self.num1 - self.num2\n",
        "  def times(self):\n",
        "    return self.num1 * self.num2\n",
        "  def divide(self):\n",
        "    return self.num1 / self.num2\n",
        "  def symbol(self):\n",
        "    a = int(input(\"기호를 입력하시오 : \"))\n",
        "    if a == '+' :\n",
        "        return add()\n",
        "    elif a == '-' :\n",
        "        return minus()\n",
        "    elif a == '*' :\n",
        "        return times()\n",
        "    elif a == '/' :\n",
        "        return divide()\n",
        "#   def cal():\n",
        "#    self.num1 = int(input(\"첫번째 숫자를 입력해주세요.\"))\n",
        "#    self.num2 = int(input(\"두번째 숫자를 입력해주세요.\"))\n",
        "#    return self.num1*self.num2, self.num1-self.num2, self.num1+self.num2, self.num1/self.num2\n",
        "# print(cal())\n",
        "\n",
        "a = FourCal(10, 20 )\n",
        "print(a.num1, a.num2)\n",
        "print(a.add())\n",
        "print(a.minus())\n",
        "print(a.times())\n",
        "print(a.divide())\n",
        "\n"
      ],
      "metadata": {
        "colab": {
          "base_uri": "https://localhost:8080/"
        },
        "id": "3_xEG-v29UOc",
        "outputId": "6285f864-a9a2-4dc1-9d46-0cac6dc39fcf"
      },
      "execution_count": null,
      "outputs": [
        {
          "output_type": "stream",
          "name": "stdout",
          "text": [
            "10 20\n",
            "30\n",
            "-10\n",
            "200\n",
            "0.5\n"
          ]
        }
      ]
    },
    {
      "cell_type": "code",
      "source": [
        "class FourCal:\n",
        "  def __init__(self, num1, num2):\n",
        "    self.num1 = num1\n",
        "    self.num2 = num2\n",
        "  def add(self):\n",
        "    return self.num1 + self.num2\n",
        "  def minus(self):\n",
        "    return self.num1 - self.num2\n",
        "  def times(self):\n",
        "    return self.num1 * self.num2\n",
        "  def divide(self):\n",
        "    return self.num1 / self.num2\n",
        "\n",
        "a = FourCal(10, 20)\n",
        "\n",
        "print(a.num1, a.num2)\n",
        "print(a.add())\n",
        "print(a.minus())\n",
        "print(a.times())\n",
        "print(a.divide())"
      ],
      "metadata": {
        "colab": {
          "base_uri": "https://localhost:8080/"
        },
        "id": "zX7aS0-nBQ18",
        "outputId": "998cf995-41e0-47bf-ecad-3911333f7663"
      },
      "execution_count": null,
      "outputs": [
        {
          "output_type": "stream",
          "name": "stdout",
          "text": [
            "10 20\n",
            "30\n",
            "-10\n",
            "200\n",
            "0.5\n"
          ]
        }
      ]
    },
    {
      "cell_type": "code",
      "source": [
        "class BackAccount:\n",
        "  def __init__(self, accountnumber, holder, balance):\n",
        "    self.accountnumber = (a)\n",
        "    self.holder = (b)\n",
        "    self.balance = (c)\n",
        "  def 입출금(self):\n",
        "    return self.balance + A\n",
        "a=int(input(\"계좌번호 입력하시오 : \"))\n",
        "b=int(input(\"이름을 입력하시오 : \"))\n",
        "c=int(input(\"잔액을 입력하시오 : \"))\n",
        "A = BackAccount"
      ],
      "metadata": {
        "colab": {
          "base_uri": "https://localhost:8080/",
          "height": 145
        },
        "id": "FpR_PsLzHhEU",
        "outputId": "334407a5-b42c-428f-f28e-65027f5e0a9d"
      },
      "execution_count": null,
      "outputs": [
        {
          "output_type": "error",
          "ename": "SyntaxError",
          "evalue": "ignored",
          "traceback": [
            "\u001b[0;36m  File \u001b[0;32m\"<ipython-input-83-f3c191a50cb5>\"\u001b[0;36m, line \u001b[0;32m7\u001b[0m\n\u001b[0;31m    return self.balance +\u001b[0m\n\u001b[0m                          ^\u001b[0m\n\u001b[0;31mSyntaxError\u001b[0m\u001b[0;31m:\u001b[0m invalid syntax\n"
          ]
        }
      ]
    },
    {
      "cell_type": "code",
      "source": [
        "class BankAccount:\n",
        "  def __init__(self, 계좌번호, 이름, 잔액):\n",
        "    self.계좌번호 = 계좌번호\n",
        "    self.이름 = 이름\n",
        "    self.잔액 = 잔액\n",
        "\n",
        "  def 입금(self, 금액):\n",
        "    self.잔액 = self.잔액 + 금액\n",
        "\n",
        "  def 출금(self, 금액):\n",
        "    self.잔액 = self.잔액 - 금액\n",
        "\n",
        "  def 계좌조회(self):\n",
        "    print(f'{self.이름}님의 잔고는 {self.잔액}입니다.')\n",
        "\n",
        "최진영계좌 = BankAccount('123-456-789', '최진영', 50000)\n",
        "print(최진영계좌. 잔액)\n",
        "최진영계좌. 입금 (50000)\n",
        "print(최진영계좌. 잔액)\n",
        "최진영계좌. 입금 (50000)\n",
        "print(최진영계좌. 잔액)\n",
        "최진영계좌.계좌조회()\n"
      ],
      "metadata": {
        "colab": {
          "base_uri": "https://localhost:8080/"
        },
        "id": "b7rUNrAmJu5D",
        "outputId": "f376968d-be82-4b0c-f833-d3c8ec3041ba"
      },
      "execution_count": null,
      "outputs": [
        {
          "output_type": "stream",
          "name": "stdout",
          "text": [
            "50000\n",
            "100000\n",
            "150000\n",
            "최진영님의 잔고는 150000입니다.\n"
          ]
        }
      ]
    },
    {
      "cell_type": "code",
      "source": [
        "class BankAccount:\n",
        "  def __init__(self, 계좌번호, 이름, 잔액):\n",
        "    self.계좌번호 = 계좌번호\n",
        "    self.이름 = 이름\n",
        "    self.잔액 = 잔액\n",
        "\n",
        "  def 입금(self, 금액):\n",
        "    self.잔액 = self.잔액 + 금액\n",
        "\n",
        "  def 출금(self, 금액):\n",
        "    self.잔액 = self.잔액 - 금액\n",
        "\n",
        "  def 계좌조회(self):\n",
        "    print(f'{self.name}님의 잔고는 {self.잔액}입니다.')\n",
        "\n",
        "최진영계좌 = BankAccount('123-456-789', '최진영', 50000)\n",
        "홍길동계좌 = BankAccount('231-456-780', '홍길동', 100000)\n",
        "print(최진영계좌.잔액)\n",
        "최진영계좌.입금(50000)\n",
        "print(최진영계좌.잔액)\n",
        "최진영계좌.출금(30000)\n",
        "print(최진영계좌.잔액)"
      ],
      "metadata": {
        "id": "RtCR3yY9LcGq"
      },
      "execution_count": null,
      "outputs": []
    },
    {
      "cell_type": "code",
      "source": [
        "class FourCal:\n",
        "  def __init__(self, num1, num2):\n",
        "    self.num1 = num1\n",
        "    self.num2 = num2\n",
        "  def add(self):\n",
        "    return self.num1 + self.num2\n",
        "  def minus(self):\n",
        "    return self.num1 - self.num2\n",
        "  def times(self):\n",
        "    return self.num1 * self.num2\n",
        "  def divide(self):\n",
        "    return self.num1 / self.num2"
      ],
      "metadata": {
        "id": "wojgf72kMd7j"
      },
      "execution_count": null,
      "outputs": []
    },
    {
      "cell_type": "code",
      "source": [
        "class MoreFourCal(FourCal):\n",
        "  def divide(self):\n",
        "    if self.num2 == 0:\n",
        "      return 0\n",
        "    else:\n",
        "      return self.num1 / self.num2"
      ],
      "metadata": {
        "id": "W9rJWT_8NFnA"
      },
      "execution_count": null,
      "outputs": []
    },
    {
      "cell_type": "code",
      "source": [
        "a = MoreFourCal(2, 4)\n",
        "a.add()"
      ],
      "metadata": {
        "colab": {
          "base_uri": "https://localhost:8080/"
        },
        "id": "DUT-gROFNLoA",
        "outputId": "f9e74119-a225-4613-e377-208e503492c5"
      },
      "execution_count": null,
      "outputs": [
        {
          "output_type": "execute_result",
          "data": {
            "text/plain": [
              "6"
            ]
          },
          "metadata": {},
          "execution_count": 102
        }
      ]
    },
    {
      "cell_type": "code",
      "source": [
        "a = MoreFourCal(2, 0)\n",
        "a.divide()"
      ],
      "metadata": {
        "colab": {
          "base_uri": "https://localhost:8080/"
        },
        "id": "dKFwEsP2NP8B",
        "outputId": "3971e924-05ce-45d9-9bc1-01f55cb31fb2"
      },
      "execution_count": null,
      "outputs": [
        {
          "output_type": "execute_result",
          "data": {
            "text/plain": [
              "0"
            ]
          },
          "metadata": {},
          "execution_count": 107
        }
      ]
    }
  ]
}